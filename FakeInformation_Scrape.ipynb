{
 "cells": [
  {
   "cell_type": "code",
   "execution_count": 9,
   "id": "12850ec2",
   "metadata": {},
   "outputs": [],
   "source": [
    "import pymongo, requests\n",
    "from bs4 import BeautifulSoup"
   ]
  },
  {
   "cell_type": "code",
   "execution_count": 27,
   "id": "faff54b2",
   "metadata": {},
   "outputs": [],
   "source": [
    "person_information = {}\n",
    "\n",
    "def Get_Person_INFO(gn = \"\", ns = \"us\", cntr = \"\"):\n",
    "    \n",
    "    url = f\"https://www.fakenamegenerator.com/gen-{gn}-{ns}-{cntr}.php\"\n",
    "    headers = {\n",
    "    \"User-Agent\": \"Mozilla/5.0 (Windows NT 10.0; Win64; x64) AppleWebKit/537.36 (KHTML, like Gecko) Chrome/58.0.3029.110 Safari/537.3\"\n",
    "    }\n",
    "    response = requests.get(url, headers=headers)\n",
    "    sp = BeautifulSoup(response.content, 'html.parser')\n",
    "    info = sp.find_all('div', class_=\"info\")\n",
    "    \n",
    "    for inf in info:\n",
    "        name = inf.find('div', class_=\"content\").find(\"div\", class_=\"address\").find('h3')\n",
    "        person_information['name'] = name.text\n",
    "        address = inf.find('div', class_=\"content\").find(\"div\", class_=\"address\").find('div', class_=\"adr\")\n",
    "        person_information['address'] = address.text.strip()\n",
    "        special_info = inf.find('div', class_=\"extra\").find_all('dl', class_=\"dl-horizontal\")\n",
    "        \n",
    "        counter = 0\n",
    "        for sp_info in special_info:\n",
    "            counter += 1\n",
    "            person_information[sp_info.find('dt').get_text()] = sp_info.find('dd').get_text(strip=True)\n",
    "            if counter==6: break"
   ]
  },
  {
   "cell_type": "code",
   "execution_count": 33,
   "id": "85bf1db7",
   "metadata": {},
   "outputs": [
    {
     "name": "stdout",
     "output_type": "stream",
     "text": [
      "3 [{'name': 'Shirley G. Morgan', 'address': '4805 rue PrincipaleMont Laurier, QC J9L 2H9', \"Mother's maiden name\": 'Stebbins', 'SIN': '737 830 133', 'Geo coordinates': '46.607214, -75.523945', 'Phone': '819-440-7875', 'Country code': '1', 'Birthday': 'February 7, 1959', '_id': ObjectId('6495dcfdb8ed72fad260467a')}, {'name': 'Shirley G. Morgan', 'address': '4805 rue PrincipaleMont Laurier, QC J9L 2H9', \"Mother's maiden name\": 'Stebbins', 'SIN': '737 830 133', 'Geo coordinates': '46.607214, -75.523945', 'Phone': '819-440-7875', 'Country code': '1', 'Birthday': 'February 7, 1959', '_id': ObjectId('6495dcfdb8ed72fad260467a')}, {'name': 'Shirley G. Morgan', 'address': '4805 rue PrincipaleMont Laurier, QC J9L 2H9', \"Mother's maiden name\": 'Stebbins', 'SIN': '737 830 133', 'Geo coordinates': '46.607214, -75.523945', 'Phone': '819-440-7875', 'Country code': '1', 'Birthday': 'February 7, 1959', '_id': ObjectId('6495dcfdb8ed72fad260467a')}]\n"
     ]
    }
   ],
   "source": [
    "arr = []\n",
    "for i in range(3):\n",
    "    Get_Person_INFO(\"random\",\"us\",\"ca\")\n",
    "    arr.append(person_information)\n",
    "print(len(arr), arr)"
   ]
  },
  {
   "cell_type": "code",
   "execution_count": 35,
   "id": "c87017b3",
   "metadata": {},
   "outputs": [
    {
     "name": "stdout",
     "output_type": "stream",
     "text": [
      "Bulk write operation failed:\n",
      "Error at index 0: E11000 duplicate key error collection: dz.hu index: _id_ dup key: { _id: ObjectId('6495dcfdb8ed72fad260467a') }\n"
     ]
    }
   ],
   "source": [
    "from pymongo import MongoClient\n",
    "from pymongo.errors import BulkWriteError\n",
    "\n",
    "# Assuming `arr` contains the documents you want to insert\n",
    "\n",
    "try:\n",
    "    client = MongoClient()\n",
    "    database = client['dz']\n",
    "    collection = database['hu']\n",
    "    result = collection.insert_many(arr)\n",
    "    print(\"Documents inserted successfully.\")\n",
    "except BulkWriteError as e:\n",
    "    # Handle the BulkWriteError\n",
    "    print(\"Bulk write operation failed:\")\n",
    "    for error in e.details['writeErrors']:\n",
    "        print(f\"Error at index {error['index']}: {error['errmsg']}\")"
   ]
  }
 ],
 "metadata": {
  "kernelspec": {
   "display_name": "Python 3 (ipykernel)",
   "language": "python",
   "name": "python3"
  },
  "language_info": {
   "codemirror_mode": {
    "name": "ipython",
    "version": 3
   },
   "file_extension": ".py",
   "mimetype": "text/x-python",
   "name": "python",
   "nbconvert_exporter": "python",
   "pygments_lexer": "ipython3",
   "version": "3.9.13"
  }
 },
 "nbformat": 4,
 "nbformat_minor": 5
}
