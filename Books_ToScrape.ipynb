{
  "nbformat": 4,
  "nbformat_minor": 0,
  "metadata": {
    "colab": {
      "provenance": [],
      "authorship_tag": "ABX9TyMx3pFzvcKB+HaksobcXj7d",
      "include_colab_link": true
    },
    "kernelspec": {
      "name": "python3",
      "display_name": "Python 3"
    },
    "language_info": {
      "name": "python"
    }
  },
  "cells": [
    {
      "cell_type": "markdown",
      "metadata": {
        "id": "view-in-github",
        "colab_type": "text"
      },
      "source": [
        "<a href=\"https://colab.research.google.com/github/senani-derradji/Web_Scraping_Crawling/blob/main/Books_ToScrape.ipynb\" target=\"_parent\"><img src=\"https://colab.research.google.com/assets/colab-badge.svg\" alt=\"Open In Colab\"/></a>"
      ]
    },
    {
      "cell_type": "markdown",
      "source": [
        "Start"
      ],
      "metadata": {
        "id": "dRLljNKZ0_wE"
      }
    },
    {
      "cell_type": "code",
      "source": [
        "import requests\n",
        "from bs4 import BeautifulSoup\n",
        "title_price_availability_desc_img = {}\n",
        "for i in range(1,51):\n",
        "  url = f\"https://books.toscrape.com/catalogue/page-{i}.html\"\n",
        "  response = requests.get(url, verify=True)\n",
        "  sp = BeautifulSoup(response.content, 'html.parser')\n",
        "  data = sp.find_all('li', class_=\"col-xs-6 col-sm-4 col-md-3 col-lg-3\")\n",
        "  for dt in data:\n",
        "    rsp = dt.find('h3').find('a').get('href')\n",
        "    response = requests.get(f\"https://books.toscrape.com/catalogue/{rsp}\")\n",
        "    if response.status_code == 200:\n",
        "      soup =  BeautifulSoup(response.content, 'html.parser')\n",
        "      image = soup.find('div', class_=\"col-sm-6\").find('div', class_=\"item active\").find('img').get('src')\n",
        "      paragraphs = soup.find('article', class_=\"product_page\").find_all('p')\n",
        "      image_link = f\"https://books.toscrape.com/{image[6:]}\"\n",
        "      title_p_av = soup.find('div', class_=\"col-sm-6 product_main\")\n",
        "      title_price_availability_desc_img[title_p_av.find('h1').text.strip()] = (\n",
        "          title_p_av.find('p', class_=\"price_color\").text.strip(),\n",
        "          title_p_av.find('p', class_=\"instock availability\").text.strip(),\n",
        "          paragraphs[3].text.strip(),image_link)"
      ],
      "metadata": {
        "id": "YB-mUjvg1AOs"
      },
      "execution_count": null,
      "outputs": []
    },
    {
      "cell_type": "code",
      "source": [
        "import csv\n",
        "with open('books_toscrape.csv', 'w', newline='') as csvfile:\n",
        "    writer = csv.writer(csvfile)\n",
        "    writer.writerow(['Title of Book', 'Price', 'Description', 'Image URL'])\n",
        "    for title, values in title_price_availability_desc_img.items():\n",
        "        row = [title] + list(values)\n",
        "        writer.writerow(row)\n",
        "print(\"Done.\")"
      ],
      "metadata": {
        "colab": {
          "base_uri": "https://localhost:8080/"
        },
        "id": "q4CvXTp5d7WK",
        "outputId": "b5df2198-b38e-47ee-cb8a-f59f490e7db1"
      },
      "execution_count": 31,
      "outputs": [
        {
          "output_type": "stream",
          "name": "stdout",
          "text": [
            "Done.\n"
          ]
        }
      ]
    }
  ]
}