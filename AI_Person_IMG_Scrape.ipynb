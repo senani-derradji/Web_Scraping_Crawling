{
 "cells": [
  {
   "cell_type": "code",
   "execution_count": 67,
   "id": "19468999",
   "metadata": {},
   "outputs": [
    {
     "name": "stdout",
     "output_type": "stream",
     "text": [
      "image :  0 , \n",
      "image :  1 , \n",
      "image :  2 , \n",
      "image :  3 , \n",
      "image :  4 , \n",
      "image :  5 , \n",
      "image :  6 , \n",
      "image :  7 , \n",
      "image :  8 , \n",
      "image :  9 , \n"
     ]
    }
   ],
   "source": [
    "import time\n",
    "from selenium import webdriver\n",
    "from selenium.webdriver.common.by import By\n",
    "from selenium.webdriver.support.ui import WebDriverWait\n",
    "from selenium.webdriver.support import expected_conditions as EC\n",
    "from selenium.webdriver.common.keys import Keys\n",
    "from bs4 import BeautifulSoup\n",
    "from selenium.common.exceptions import NoSuchElementException\n",
    "driver = webdriver.Chrome()\n",
    "\n",
    "images_arr = []\n",
    "driver.get(\"https://this-person-does-not-exist.com/en\")\n",
    "div = driver.find_element(By.XPATH, \"//div[@class='content-wrapper']\")\n",
    "table = div.find_element(By.TAG_NAME, \"table\").find_element(By.TAG_NAME, \"tbody\")\n",
    "\n",
    "def Select_Option(g_a_e=\"\" , g_a_e_Value=\"\"):\n",
    "    var = table.find_element(By.NAME, f\"{g_a_e}\")\n",
    "    var.click()\n",
    "    select_var = var.find_element(By.XPATH, f\"//option[@value='{g_a_e_Value}']\").click()\n",
    "\n",
    "Select_Option(g_a_e=\"gender\" , g_a_e_Value=\"male\")\n",
    "Select_Option(g_a_e=\"age\" , g_a_e_Value=\"12-18\")\n",
    "\n",
    "for images_number in range(10):\n",
    "    button = table.find_element(By.ID, \"reload-button\").click()\n",
    "    time.sleep(6)\n",
    "    image_link = div.find_element(By.ID, \"avatar\")\n",
    "    images_arr.append(image_link.get_attribute('src'))\n",
    "    print(\"image : \", images_number , end=\" , \\n\")\n"
   ]
  },
  {
   "cell_type": "code",
   "execution_count": 72,
   "id": "b3137119",
   "metadata": {},
   "outputs": [
    {
     "name": "stdout",
     "output_type": "stream",
     "text": [
      "10\n"
     ]
    }
   ],
   "source": [
    "print(len(images_arr))"
   ]
  }
 ],
 "metadata": {
  "kernelspec": {
   "display_name": "Python 3 (ipykernel)",
   "language": "python",
   "name": "python3"
  },
  "language_info": {
   "codemirror_mode": {
    "name": "ipython",
    "version": 3
   },
   "file_extension": ".py",
   "mimetype": "text/x-python",
   "name": "python",
   "nbconvert_exporter": "python",
   "pygments_lexer": "ipython3",
   "version": "3.9.13"
  }
 },
 "nbformat": 4,
 "nbformat_minor": 5
}
